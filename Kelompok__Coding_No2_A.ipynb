{
  "nbformat": 4,
  "nbformat_minor": 0,
  "metadata": {
    "colab": {
      "provenance": [],
      "include_colab_link": true
    },
    "kernelspec": {
      "name": "python3",
      "display_name": "Python 3"
    },
    "language_info": {
      "name": "python"
    }
  },
  "cells": [
    {
      "cell_type": "markdown",
      "metadata": {
        "id": "view-in-github",
        "colab_type": "text"
      },
      "source": [
        "<a href=\"https://colab.research.google.com/github/anisafitriani1122/Proyek-Tugas-Besar_Pembelajaran-Mesin/blob/main/Kelompok__Coding_No2_A.ipynb\" target=\"_parent\"><img src=\"https://colab.research.google.com/assets/colab-badge.svg\" alt=\"Open In Colab\"/></a>"
      ]
    },
    {
      "cell_type": "code",
      "execution_count": null,
      "metadata": {
        "id": "6tzono9wFFP-",
        "colab": {
          "base_uri": "https://localhost:8080/"
        },
        "outputId": "6f4db4ff-d176-47fe-b742-f17497ce3319"
      },
      "outputs": [
        {
          "output_type": "stream",
          "name": "stdout",
          "text": [
            "Drive already mounted at /content/drive; to attempt to forcibly remount, call drive.mount(\"/content/drive\", force_remount=True).\n"
          ]
        }
      ],
      "source": [
        "#HUBUNGKAN GOOGLE DRIVE\n",
        "dari  google.colab  impor  drive\n",
        "drive.mount( '/content/drive' )"
      ]
    },
    {
      "cell_type": "code",
      "source": [
        "#Input Data\n",
        "import numpy as np\n",
        "import pandas as pd\n",
        "df = pd.read_csv(\"/content/drive/My Drive/Dataset/Data.csv\")\n",
        "df.head()"
      ],
      "metadata": {
        "colab": {
          "base_uri": "https://localhost:8080/",
          "height": 206
        },
        "id": "FfcC5iwuJIXv",
        "outputId": "aab2bc22-b019-4aa6-e2e2-992452f2b66e"
      },
      "execution_count": null,
      "outputs": [
        {
          "output_type": "execute_result",
          "data": {
            "text/plain": [
              "                   Nama  Mengonsumsi Pedas  Minuman Berkafein  Perokok  \\\n",
              "0      M. Naif Abdallah                  1                  1        0   \n",
              "1    Nadia Raissa Muthi                  1                  1        0   \n",
              "2                  Anis                  0                  0        0   \n",
              "3          Lina Saputri                  0                  0        0   \n",
              "4  Mia Syntia Br Sinaga                  1                  1        0   \n",
              "\n",
              "   Stress  Tidur Cukup  Maag  \n",
              "0       1            0     0  \n",
              "1       0            0     1  \n",
              "2       1            0     1  \n",
              "3       1            0     0  \n",
              "4       1            0     0  "
            ],
            "text/html": [
              "\n",
              "  <div id=\"df-42fd5842-7ba6-4a9c-8b18-9f5da94b6c99\" class=\"colab-df-container\">\n",
              "    <div>\n",
              "<style scoped>\n",
              "    .dataframe tbody tr th:only-of-type {\n",
              "        vertical-align: middle;\n",
              "    }\n",
              "\n",
              "    .dataframe tbody tr th {\n",
              "        vertical-align: top;\n",
              "    }\n",
              "\n",
              "    .dataframe thead th {\n",
              "        text-align: right;\n",
              "    }\n",
              "</style>\n",
              "<table border=\"1\" class=\"dataframe\">\n",
              "  <thead>\n",
              "    <tr style=\"text-align: right;\">\n",
              "      <th></th>\n",
              "      <th>Nama</th>\n",
              "      <th>Mengonsumsi Pedas</th>\n",
              "      <th>Minuman Berkafein</th>\n",
              "      <th>Perokok</th>\n",
              "      <th>Stress</th>\n",
              "      <th>Tidur Cukup</th>\n",
              "      <th>Maag</th>\n",
              "    </tr>\n",
              "  </thead>\n",
              "  <tbody>\n",
              "    <tr>\n",
              "      <th>0</th>\n",
              "      <td>M. Naif Abdallah</td>\n",
              "      <td>1</td>\n",
              "      <td>1</td>\n",
              "      <td>0</td>\n",
              "      <td>1</td>\n",
              "      <td>0</td>\n",
              "      <td>0</td>\n",
              "    </tr>\n",
              "    <tr>\n",
              "      <th>1</th>\n",
              "      <td>Nadia Raissa Muthi</td>\n",
              "      <td>1</td>\n",
              "      <td>1</td>\n",
              "      <td>0</td>\n",
              "      <td>0</td>\n",
              "      <td>0</td>\n",
              "      <td>1</td>\n",
              "    </tr>\n",
              "    <tr>\n",
              "      <th>2</th>\n",
              "      <td>Anis</td>\n",
              "      <td>0</td>\n",
              "      <td>0</td>\n",
              "      <td>0</td>\n",
              "      <td>1</td>\n",
              "      <td>0</td>\n",
              "      <td>1</td>\n",
              "    </tr>\n",
              "    <tr>\n",
              "      <th>3</th>\n",
              "      <td>Lina Saputri</td>\n",
              "      <td>0</td>\n",
              "      <td>0</td>\n",
              "      <td>0</td>\n",
              "      <td>1</td>\n",
              "      <td>0</td>\n",
              "      <td>0</td>\n",
              "    </tr>\n",
              "    <tr>\n",
              "      <th>4</th>\n",
              "      <td>Mia Syntia Br Sinaga</td>\n",
              "      <td>1</td>\n",
              "      <td>1</td>\n",
              "      <td>0</td>\n",
              "      <td>1</td>\n",
              "      <td>0</td>\n",
              "      <td>0</td>\n",
              "    </tr>\n",
              "  </tbody>\n",
              "</table>\n",
              "</div>\n",
              "    <div class=\"colab-df-buttons\">\n",
              "\n",
              "  <div class=\"colab-df-container\">\n",
              "    <button class=\"colab-df-convert\" onclick=\"convertToInteractive('df-42fd5842-7ba6-4a9c-8b18-9f5da94b6c99')\"\n",
              "            title=\"Convert this dataframe to an interactive table.\"\n",
              "            style=\"display:none;\">\n",
              "\n",
              "  <svg xmlns=\"http://www.w3.org/2000/svg\" height=\"24px\" viewBox=\"0 -960 960 960\">\n",
              "    <path d=\"M120-120v-720h720v720H120Zm60-500h600v-160H180v160Zm220 220h160v-160H400v160Zm0 220h160v-160H400v160ZM180-400h160v-160H180v160Zm440 0h160v-160H620v160ZM180-180h160v-160H180v160Zm440 0h160v-160H620v160Z\"/>\n",
              "  </svg>\n",
              "    </button>\n",
              "\n",
              "  <style>\n",
              "    .colab-df-container {\n",
              "      display:flex;\n",
              "      gap: 12px;\n",
              "    }\n",
              "\n",
              "    .colab-df-convert {\n",
              "      background-color: #E8F0FE;\n",
              "      border: none;\n",
              "      border-radius: 50%;\n",
              "      cursor: pointer;\n",
              "      display: none;\n",
              "      fill: #1967D2;\n",
              "      height: 32px;\n",
              "      padding: 0 0 0 0;\n",
              "      width: 32px;\n",
              "    }\n",
              "\n",
              "    .colab-df-convert:hover {\n",
              "      background-color: #E2EBFA;\n",
              "      box-shadow: 0px 1px 2px rgba(60, 64, 67, 0.3), 0px 1px 3px 1px rgba(60, 64, 67, 0.15);\n",
              "      fill: #174EA6;\n",
              "    }\n",
              "\n",
              "    .colab-df-buttons div {\n",
              "      margin-bottom: 4px;\n",
              "    }\n",
              "\n",
              "    [theme=dark] .colab-df-convert {\n",
              "      background-color: #3B4455;\n",
              "      fill: #D2E3FC;\n",
              "    }\n",
              "\n",
              "    [theme=dark] .colab-df-convert:hover {\n",
              "      background-color: #434B5C;\n",
              "      box-shadow: 0px 1px 3px 1px rgba(0, 0, 0, 0.15);\n",
              "      filter: drop-shadow(0px 1px 2px rgba(0, 0, 0, 0.3));\n",
              "      fill: #FFFFFF;\n",
              "    }\n",
              "  </style>\n",
              "\n",
              "    <script>\n",
              "      const buttonEl =\n",
              "        document.querySelector('#df-42fd5842-7ba6-4a9c-8b18-9f5da94b6c99 button.colab-df-convert');\n",
              "      buttonEl.style.display =\n",
              "        google.colab.kernel.accessAllowed ? 'block' : 'none';\n",
              "\n",
              "      async function convertToInteractive(key) {\n",
              "        const element = document.querySelector('#df-42fd5842-7ba6-4a9c-8b18-9f5da94b6c99');\n",
              "        const dataTable =\n",
              "          await google.colab.kernel.invokeFunction('convertToInteractive',\n",
              "                                                    [key], {});\n",
              "        if (!dataTable) return;\n",
              "\n",
              "        const docLinkHtml = 'Like what you see? Visit the ' +\n",
              "          '<a target=\"_blank\" href=https://colab.research.google.com/notebooks/data_table.ipynb>data table notebook</a>'\n",
              "          + ' to learn more about interactive tables.';\n",
              "        element.innerHTML = '';\n",
              "        dataTable['output_type'] = 'display_data';\n",
              "        await google.colab.output.renderOutput(dataTable, element);\n",
              "        const docLink = document.createElement('div');\n",
              "        docLink.innerHTML = docLinkHtml;\n",
              "        element.appendChild(docLink);\n",
              "      }\n",
              "    </script>\n",
              "  </div>\n",
              "\n",
              "\n",
              "<div id=\"df-deba4d1a-1a61-41aa-896d-9bc3623d015e\">\n",
              "  <button class=\"colab-df-quickchart\" onclick=\"quickchart('df-deba4d1a-1a61-41aa-896d-9bc3623d015e')\"\n",
              "            title=\"Suggest charts\"\n",
              "            style=\"display:none;\">\n",
              "\n",
              "<svg xmlns=\"http://www.w3.org/2000/svg\" height=\"24px\"viewBox=\"0 0 24 24\"\n",
              "     width=\"24px\">\n",
              "    <g>\n",
              "        <path d=\"M19 3H5c-1.1 0-2 .9-2 2v14c0 1.1.9 2 2 2h14c1.1 0 2-.9 2-2V5c0-1.1-.9-2-2-2zM9 17H7v-7h2v7zm4 0h-2V7h2v10zm4 0h-2v-4h2v4z\"/>\n",
              "    </g>\n",
              "</svg>\n",
              "  </button>\n",
              "\n",
              "<style>\n",
              "  .colab-df-quickchart {\n",
              "      --bg-color: #E8F0FE;\n",
              "      --fill-color: #1967D2;\n",
              "      --hover-bg-color: #E2EBFA;\n",
              "      --hover-fill-color: #174EA6;\n",
              "      --disabled-fill-color: #AAA;\n",
              "      --disabled-bg-color: #DDD;\n",
              "  }\n",
              "\n",
              "  [theme=dark] .colab-df-quickchart {\n",
              "      --bg-color: #3B4455;\n",
              "      --fill-color: #D2E3FC;\n",
              "      --hover-bg-color: #434B5C;\n",
              "      --hover-fill-color: #FFFFFF;\n",
              "      --disabled-bg-color: #3B4455;\n",
              "      --disabled-fill-color: #666;\n",
              "  }\n",
              "\n",
              "  .colab-df-quickchart {\n",
              "    background-color: var(--bg-color);\n",
              "    border: none;\n",
              "    border-radius: 50%;\n",
              "    cursor: pointer;\n",
              "    display: none;\n",
              "    fill: var(--fill-color);\n",
              "    height: 32px;\n",
              "    padding: 0;\n",
              "    width: 32px;\n",
              "  }\n",
              "\n",
              "  .colab-df-quickchart:hover {\n",
              "    background-color: var(--hover-bg-color);\n",
              "    box-shadow: 0 1px 2px rgba(60, 64, 67, 0.3), 0 1px 3px 1px rgba(60, 64, 67, 0.15);\n",
              "    fill: var(--button-hover-fill-color);\n",
              "  }\n",
              "\n",
              "  .colab-df-quickchart-complete:disabled,\n",
              "  .colab-df-quickchart-complete:disabled:hover {\n",
              "    background-color: var(--disabled-bg-color);\n",
              "    fill: var(--disabled-fill-color);\n",
              "    box-shadow: none;\n",
              "  }\n",
              "\n",
              "  .colab-df-spinner {\n",
              "    border: 2px solid var(--fill-color);\n",
              "    border-color: transparent;\n",
              "    border-bottom-color: var(--fill-color);\n",
              "    animation:\n",
              "      spin 1s steps(1) infinite;\n",
              "  }\n",
              "\n",
              "  @keyframes spin {\n",
              "    0% {\n",
              "      border-color: transparent;\n",
              "      border-bottom-color: var(--fill-color);\n",
              "      border-left-color: var(--fill-color);\n",
              "    }\n",
              "    20% {\n",
              "      border-color: transparent;\n",
              "      border-left-color: var(--fill-color);\n",
              "      border-top-color: var(--fill-color);\n",
              "    }\n",
              "    30% {\n",
              "      border-color: transparent;\n",
              "      border-left-color: var(--fill-color);\n",
              "      border-top-color: var(--fill-color);\n",
              "      border-right-color: var(--fill-color);\n",
              "    }\n",
              "    40% {\n",
              "      border-color: transparent;\n",
              "      border-right-color: var(--fill-color);\n",
              "      border-top-color: var(--fill-color);\n",
              "    }\n",
              "    60% {\n",
              "      border-color: transparent;\n",
              "      border-right-color: var(--fill-color);\n",
              "    }\n",
              "    80% {\n",
              "      border-color: transparent;\n",
              "      border-right-color: var(--fill-color);\n",
              "      border-bottom-color: var(--fill-color);\n",
              "    }\n",
              "    90% {\n",
              "      border-color: transparent;\n",
              "      border-bottom-color: var(--fill-color);\n",
              "    }\n",
              "  }\n",
              "</style>\n",
              "\n",
              "  <script>\n",
              "    async function quickchart(key) {\n",
              "      const quickchartButtonEl =\n",
              "        document.querySelector('#' + key + ' button');\n",
              "      quickchartButtonEl.disabled = true;  // To prevent multiple clicks.\n",
              "      quickchartButtonEl.classList.add('colab-df-spinner');\n",
              "      try {\n",
              "        const charts = await google.colab.kernel.invokeFunction(\n",
              "            'suggestCharts', [key], {});\n",
              "      } catch (error) {\n",
              "        console.error('Error during call to suggestCharts:', error);\n",
              "      }\n",
              "      quickchartButtonEl.classList.remove('colab-df-spinner');\n",
              "      quickchartButtonEl.classList.add('colab-df-quickchart-complete');\n",
              "    }\n",
              "    (() => {\n",
              "      let quickchartButtonEl =\n",
              "        document.querySelector('#df-deba4d1a-1a61-41aa-896d-9bc3623d015e button');\n",
              "      quickchartButtonEl.style.display =\n",
              "        google.colab.kernel.accessAllowed ? 'block' : 'none';\n",
              "    })();\n",
              "  </script>\n",
              "</div>\n",
              "    </div>\n",
              "  </div>\n"
            ],
            "application/vnd.google.colaboratory.intrinsic+json": {
              "type": "dataframe",
              "variable_name": "df",
              "summary": "{\n  \"name\": \"df\",\n  \"rows\": 15,\n  \"fields\": [\n    {\n      \"column\": \"Nama\",\n      \"properties\": {\n        \"dtype\": \"string\",\n        \"num_unique_values\": 15,\n        \"samples\": [\n          \"Dyah Fitri Inayati\",\n          \"Anasye\",\n          \"M. Naif Abdallah\"\n        ],\n        \"semantic_type\": \"\",\n        \"description\": \"\"\n      }\n    },\n    {\n      \"column\": \"Mengonsumsi Pedas\",\n      \"properties\": {\n        \"dtype\": \"number\",\n        \"std\": 0,\n        \"min\": 0,\n        \"max\": 1,\n        \"num_unique_values\": 2,\n        \"samples\": [\n          0,\n          1\n        ],\n        \"semantic_type\": \"\",\n        \"description\": \"\"\n      }\n    },\n    {\n      \"column\": \"Minuman Berkafein\",\n      \"properties\": {\n        \"dtype\": \"number\",\n        \"std\": 0,\n        \"min\": 0,\n        \"max\": 1,\n        \"num_unique_values\": 2,\n        \"samples\": [\n          0,\n          1\n        ],\n        \"semantic_type\": \"\",\n        \"description\": \"\"\n      }\n    },\n    {\n      \"column\": \"Perokok\",\n      \"properties\": {\n        \"dtype\": \"number\",\n        \"std\": 0,\n        \"min\": 0,\n        \"max\": 1,\n        \"num_unique_values\": 2,\n        \"samples\": [\n          1,\n          0\n        ],\n        \"semantic_type\": \"\",\n        \"description\": \"\"\n      }\n    },\n    {\n      \"column\": \"Stress\",\n      \"properties\": {\n        \"dtype\": \"number\",\n        \"std\": 0,\n        \"min\": 0,\n        \"max\": 1,\n        \"num_unique_values\": 2,\n        \"samples\": [\n          0,\n          1\n        ],\n        \"semantic_type\": \"\",\n        \"description\": \"\"\n      }\n    },\n    {\n      \"column\": \"Tidur Cukup\",\n      \"properties\": {\n        \"dtype\": \"number\",\n        \"std\": 0,\n        \"min\": 0,\n        \"max\": 1,\n        \"num_unique_values\": 2,\n        \"samples\": [\n          1,\n          0\n        ],\n        \"semantic_type\": \"\",\n        \"description\": \"\"\n      }\n    },\n    {\n      \"column\": \"Maag\",\n      \"properties\": {\n        \"dtype\": \"number\",\n        \"std\": 0,\n        \"min\": 0,\n        \"max\": 1,\n        \"num_unique_values\": 2,\n        \"samples\": [\n          1,\n          0\n        ],\n        \"semantic_type\": \"\",\n        \"description\": \"\"\n      }\n    }\n  ]\n}"
            }
          },
          "metadata": {},
          "execution_count": 5
        }
      ]
    },
    {
      "source": [
        "# @title Stress\n",
        "\n",
        "from matplotlib import pyplot as plt\n",
        "df['Stress'].plot(kind='hist', bins=20, title='Stress')\n",
        "plt.gca().spines[['top', 'right',]].set_visible(False)"
      ],
      "cell_type": "code",
      "execution_count": null,
      "outputs": [
        {
          "output_type": "display_data",
          "data": {
            "text/plain": [
              "<Figure size 640x480 with 1 Axes>"
            ],
            "image/png": "[encoded data removed]"
          },
          "metadata": {}
        }
      ],
      "metadata": {
        "id": "0P_sCAshFrap",
        "outputId": "603e3722-7036-4fe7-f469-ab33f37776fd",
        "colab": {
          "base_uri": "https://localhost:8080/",
          "height": 452
        }
      }
    },
    {
      "source": [
        "# @title Perokok\n",
        "\n",
        "from matplotlib import pyplot as plt\n",
        "df['Perokok'].plot(kind='hist', bins=20, title='Perokok')\n",
        "plt.gca().spines[['top', 'right',]].set_visible(False)"
      ],
      "cell_type": "code",
      "execution_count": null,
      "outputs": [
        {
          "output_type": "display_data",
          "data": {
            "text/plain": [
              "<Figure size 640x480 with 1 Axes>"
            ],
            "image/png": "[encoded data removed]"
          },
          "metadata": {}
        }
      ],
      "metadata": {
        "cellView": "form",
        "colab": {
          "base_uri": "https://localhost:8080/",
          "height": 452
        },
        "id": "ZIvYcwqWFm17",
        "outputId": "d689c83e-9606-4919-8f3c-f81df705b24f"
      }
    },
    {
      "source": [
        "# @title Minuman Berkafein\n",
        "\n",
        "from matplotlib import pyplot as plt\n",
        "df['Minuman Berkafein'].plot(kind='hist', bins=20, title='Minuman Berkafein')\n",
        "plt.gca().spines[['top', 'right',]].set_visible(False)"
      ],
      "cell_type": "code",
      "execution_count": null,
      "outputs": [
        {
          "output_type": "display_data",
          "data": {
            "text/plain": [
              "<Figure size 640x480 with 1 Axes>"
            ],
            "image/png": "[encoded data removed]"
          },
          "metadata": {}
        }
      ],
      "metadata": {
        "cellView": "form",
        "colab": {
          "base_uri": "https://localhost:8080/",
          "height": 452
        },
        "id": "gQnTJh8CFhAF",
        "outputId": "91032523-c590-47a1-cee8-c08ad57be6bd"
      }
    },
    {
      "source": [
        "# @title Mengonsumsi Pedas\n",
        "\n",
        "from matplotlib import pyplot as plt\n",
        "df['Mengonsumsi Pedas'].plot(kind='hist', bins=20, title='Mengonsumsi Pedas')\n",
        "plt.gca().spines[['top', 'right',]].set_visible(False)"
      ],
      "cell_type": "code",
      "execution_count": null,
      "outputs": [
        {
          "output_type": "display_data",
          "data": {
            "text/plain": [
              "<Figure size 640x480 with 1 Axes>"
            ],
            "image/png": "[encoded data removed]"
          },
          "metadata": {}
        }
      ],
      "metadata": {
        "cellView": "form",
        "id": "TJbTdFmzBNTU",
        "outputId": "8a13ee42-6ee0-4dd8-9e46-05de5771bbb9",
        "colab": {
          "base_uri": "https://localhost:8080/",
          "height": 452
        }
      }
    },
    {
      "cell_type": "code",
      "source": [
        "#Input data\n",
        "#Import numpy as np\n",
        "#import pandas as pd\n",
        "\n",
        "#df = pd.read_csv('character.csv')\n",
        "#print(df)\n",
        "\n",
        "#Testing data\n",
        "#['Mengonsumsi Pedas', 'Minuman Berkafein', 'Perokok', 'Stress', 'Tidur Cukup']\n",
        "Timbul_Sanjaya_Situmorang = [0,0,0,1,0]\n",
        "Anggi_Sephia_Febriyani = [1,1,0,0,1]\n",
        "Fauziah_ana_nabila = [1,0,0,1,0]\n",
        "Dinda_Fahira_K = [1,1,0,1,1]\n",
        "Aura_Nurmulya_Safitri = [0,0,0,0,0]\n",
        "\n",
        "#Using pandas to extract features from csv files\n",
        "X = df[['Mengonsumsi Pedas','Minuman Berkafein','Perokok','Stress','Tidur Cukup']]\n",
        "X = np.array(X)\n",
        "y = df['Maag']"
      ],
      "metadata": {
        "id": "2fz7ROAfLvST"
      },
      "execution_count": null,
      "outputs": []
    },
    {
      "cell_type": "code",
      "source": [
        "#Syntax for Decision Tree\n",
        "from sklearn.tree import DecisionTreeClassifier\n",
        "dt_clf = DecisionTreeClassifier(random_state=0)\n",
        "dt_clf.fit(X,y)\n",
        "\n",
        "#Testing the machine\n",
        "\n",
        "print(dt_clf.predict([Timbul_Sanjaya_Situmorang]))\n",
        "print(dt_clf.predict([Anggi_Sephia_Febriyani]))\n",
        "print(dt_clf.predict([Fauziah_ana_nabila]))\n",
        "print(dt_clf.predict([Dinda_Fahira_K]))\n",
        "print(dt_clf.predict([Aura_Nurmulya_Safitri]))"
      ],
      "metadata": {
        "colab": {
          "base_uri": "https://localhost:8080/"
        },
        "id": "c6U3wirAOvFW",
        "outputId": "e0c87056-6e9b-4998-ede3-6668068e1cdc"
      },
      "execution_count": null,
      "outputs": [
        {
          "output_type": "stream",
          "name": "stdout",
          "text": [
            "[0]\n",
            "[1]\n",
            "[0]\n",
            "[1]\n",
            "[1]\n"
          ]
        }
      ]
    },
    {
      "cell_type": "code",
      "source": [
        "#Syntax for k-Nearest Neighbor\n",
        "\n",
        "from sklearn.neighbors import KNeighborsClassifier\n",
        "knn_clf = KNeighborsClassifier(n_neighbors=4)\n",
        "#n_neighbors = k;\n",
        "knn_clf.fit(X, y)\n",
        "\n",
        "#Testing the machine\n",
        "print(knn_clf.predict([Timbul_Sanjaya_Situmorang]))\n",
        "print(knn_clf.predict([Anggi_Sephia_Febriyani]))\n",
        "print(knn_clf.predict([Fauziah_ana_nabila]))\n",
        "print(knn_clf.predict([Dinda_Fahira_K]))\n",
        "print(knn_clf.predict([Aura_Nurmulya_Safitri]))"
      ],
      "metadata": {
        "colab": {
          "base_uri": "https://localhost:8080/"
        },
        "id": "AMLFWkVqR3GB",
        "outputId": "fc8f2f64-0d27-483c-b2c0-5fe6066d8bd0"
      },
      "execution_count": null,
      "outputs": [
        {
          "output_type": "stream",
          "name": "stdout",
          "text": [
            "[0]\n",
            "[1]\n",
            "[0]\n",
            "[0]\n",
            "[1]\n"
          ]
        }
      ]
    },
    {
      "cell_type": "code",
      "source": [
        "import numpy as np\n",
        "import pandas as pd\n",
        "\n",
        "#Input data\n",
        "dataset = pd.read_csv(\"Tektite_Type_Strewnfield.csv\")\n",
        "dataset\n",
        "\n",
        "#Mengubah tipe data string menjadi angka\n",
        "from sklearn.preprocessing import LabelEncoder\n",
        "\n",
        "enc = LabelEncoder()\n",
        "#Transformasi kolom string menjadi angka\n",
        "dataset['Strewnfield'] = enc.fit_transform(dataset['Strewnfield'])\n",
        "dataset['Country'] = enc.fit_transform(dataset['Country'])\n",
        "dataset['Location'] = enc.fit_transform(dataset['Location'])\n",
        "dataset['Type'] = enc.fit_transform(dataset['Type'])\n",
        "dataset\n",
        "\n",
        "#Dataset yang telah ditransformasi\n",
        "dataset"
      ],
      "metadata": {
        "id": "9UEJdiQlUeGi"
      },
      "execution_count": null,
      "outputs": []
    },
    {
      "cell_type": "code",
      "source": [
        "#Testing data\n",
        "dataTest = pd.read_csv(\"dataMIX.csv\")\n",
        "dataTest\n",
        "\n",
        "#Transformasi data testing\n",
        "encTest = LabelEncoder()\n",
        "\n",
        "dataTest['Country'] = enc.fit_transform(dataTest['Country'])\n",
        "dataTest['Location'] = enc.fit_transform(dataTest['Location'])\n",
        "dataTest\n",
        "\n",
        "#Testing data\n",
        "INDONE001 = [8, 39, 108.04, -3.13, 75.78, 0.61, 12.09, 7.27, 3.58]\n",
        "INDONE002 = [8, 39, 108.04, -3.13, 76.57, 0.65, 11.09, 7.26, 3.94]\n",
        "INDONE003 = [8, 39, 108.04, -3.13, 74.44, 0.78, 11.95, 7.86, 4.26]\n",
        "INDONE004 = [8, 39, 108.04, -3.13, 76.79, 0.63, 11.96, 6.58, 3.50]\n",
        "\n",
        "#Using pandas to extract features from csv files\n",
        "X = dataset[['Country', 'Location', 'Long', 'Lat','SiO2','TiO2','Al2O3','FeO','CaO']]\n",
        "X = np.array(X)\n",
        "y = dataset[['Strewnfield','Type']]"
      ],
      "metadata": {
        "id": "pxG6zc__g_ih"
      },
      "execution_count": null,
      "outputs": []
    },
    {
      "cell_type": "code",
      "source": [
        "from sklearn.tree import DecisionTreeClassifier\n",
        "\n",
        "dt_clf = DecisionTreeClassifier(random_state=0)\n",
        "dt_clf.fit(X,y)\n",
        "\n",
        "#Testing\n",
        "print(dt_clf.predict([INDONE001]))\n",
        "print(dt_clf.predict([INDONE002]))\n",
        "print(dt_clf.predict([INDONE003]))\n",
        "print(dt_clf.predict([INDONE004]))"
      ],
      "metadata": {
        "id": "NU7XcjotjjSF"
      },
      "execution_count": null,
      "outputs": []
    },
    {
      "cell_type": "code",
      "source": [
        "from sklearn.neighbors import KNeighborsClassifier\n",
        "knn_clf = KNeighborsClassifier(n_neighbors=3)\n",
        "knn_clf.fit(X,y)\n",
        "\n",
        "#Testing\n",
        "print(knn_clf.predict([INDONE001]))\n",
        "print(knn_clf.predict([INDONE002]))\n",
        "print(knn_clf.predict([INDONE003]))\n",
        "print(knn_clf.predict([INDONE004]))"
      ],
      "metadata": {
        "id": "BGT8QwQ9myjK"
      },
      "execution_count": null,
      "outputs": []
    },
    {
      "cell_type": "code",
      "source": [
        "from sklearn.neural_network import MLPClassifier\n",
        "nn_clf = MLPClassifier(hidden_layer_sizes=(181,4), solver='lbfgs', alpha=1e-5, random_state=1)\n",
        "# hidden_layer_sizes(m,n)\n",
        "\n",
        "nn_clf.fit(X,y1)\n",
        "\n",
        "# testing\n",
        "print(nn_clf.predict([INDONE001]))\n",
        "print(nn_clf.predict([INDONE002]))\n",
        "print(nn_clf.predict([INDONE003]))\n",
        "print(nn_clf.predict([INDONE004]))\n",
        "\n",
        "nn_clf.fit(X,y2)\n",
        "\n",
        "# testing\n",
        "print(nn_clf.predict([INDONE001]))\n",
        "print(nn_clf.predict([INDONE002]))\n",
        "print(nn_clf.predict([INDONE003]))\n",
        "print(nn_clf.predict([INDONE004]))"
      ],
      "metadata": {
        "id": "qciVh8YJnN_Y"
      },
      "execution_count": null,
      "outputs": []
    },
    {
      "cell_type": "code",
      "source": [
        "from sklearn.neighbors import KNeighborsClassifier\n",
        "knn_clf = KNeighborsClassifier(n_neighbors=3)\n",
        "knn_clf.fit(X,y)\n",
        "\n",
        "# testing\n",
        "print(knn_clf.predict([INDONE001]))\n",
        "print(knn_clf.predict([INDONE002]))\n",
        "print(knn_clf.predict([INDONE003]))\n",
        "print(knn_clf.predict([INDONE004]))"
      ],
      "metadata": {
        "id": "tbCqkzNsoBi4"
      },
      "execution_count": null,
      "outputs": []
    }
  ]
}